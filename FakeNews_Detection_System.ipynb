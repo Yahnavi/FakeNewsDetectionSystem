{
  "cells": [
    {
      "cell_type": "markdown",
      "metadata": {
        "id": "view-in-github",
        "colab_type": "text"
      },
      "source": [
        "<a href=\"https://colab.research.google.com/github/Yahnavi/FakeNewsDetectionSystem/blob/main/FakeNews_Detection_System.ipynb\" target=\"_parent\"><img src=\"https://colab.research.google.com/assets/colab-badge.svg\" alt=\"Open In Colab\"/></a>"
      ]
    },
    {
      "cell_type": "code",
      "execution_count": null,
      "metadata": {
        "id": "PtA2sXhBUvLd"
      },
      "outputs": [],
      "source": [
        "import pandas as pd # data manipulation\n",
        "import numpy as np #numerical python\n",
        "import re\n",
        "from sklearn.model_selection import train_test_split #to split data into train and test sets\n",
        "from sklearn.metrics import accuracy_score\n",
        "from sklearn.linear_model import LogisticRegression\n",
        "from sklearn.feature_extraction.text import TfidfVectorizer\n",
        "from nltk.corpus import stopwords #corpus=body nltk - natural language toolkit\n",
        "from nltk.stem.porter import PorterStemmer # stemming -  removes prefix, suffix and return root word"
      ]
    },
    {
      "cell_type": "code",
      "execution_count": null,
      "metadata": {
        "colab": {
          "base_uri": "https://localhost:8080/"
        },
        "id": "Xd4uA1_Rce1U",
        "outputId": "b386b1bb-696c-4a9f-e93a-5880ee6d4c6c"
      },
      "outputs": [
        {
          "name": "stderr",
          "output_type": "stream",
          "text": [
            "[nltk_data] Downloading package stopwords to /root/nltk_data...\n",
            "[nltk_data]   Unzipping corpora/stopwords.zip.\n"
          ]
        },
        {
          "data": {
            "text/plain": [
              "True"
            ]
          },
          "execution_count": 5,
          "metadata": {},
          "output_type": "execute_result"
        }
      ],
      "source": [
        "import nltk\n",
        "nltk.download('stopwords')"
      ]
    },
    {
      "cell_type": "code",
      "execution_count": null,
      "metadata": {
        "colab": {
          "base_uri": "https://localhost:8080/"
        },
        "id": "x4Il9HQQc4SP",
        "outputId": "18f9e94c-b14c-4355-f90a-4eaea7fc47cc"
      },
      "outputs": [
        {
          "name": "stdout",
          "output_type": "stream",
          "text": [
            "['i', 'me', 'my', 'myself', 'we', 'our', 'ours', 'ourselves', 'you', \"you're\", \"you've\", \"you'll\", \"you'd\", 'your', 'yours', 'yourself', 'yourselves', 'he', 'him', 'his', 'himself', 'she', \"she's\", 'her', 'hers', 'herself', 'it', \"it's\", 'its', 'itself', 'they', 'them', 'their', 'theirs', 'themselves', 'what', 'which', 'who', 'whom', 'this', 'that', \"that'll\", 'these', 'those', 'am', 'is', 'are', 'was', 'were', 'be', 'been', 'being', 'have', 'has', 'had', 'having', 'do', 'does', 'did', 'doing', 'a', 'an', 'the', 'and', 'but', 'if', 'or', 'because', 'as', 'until', 'while', 'of', 'at', 'by', 'for', 'with', 'about', 'against', 'between', 'into', 'through', 'during', 'before', 'after', 'above', 'below', 'to', 'from', 'up', 'down', 'in', 'out', 'on', 'off', 'over', 'under', 'again', 'further', 'then', 'once', 'here', 'there', 'when', 'where', 'why', 'how', 'all', 'any', 'both', 'each', 'few', 'more', 'most', 'other', 'some', 'such', 'no', 'nor', 'not', 'only', 'own', 'same', 'so', 'than', 'too', 'very', 's', 't', 'can', 'will', 'just', 'don', \"don't\", 'should', \"should've\", 'now', 'd', 'll', 'm', 'o', 're', 've', 'y', 'ain', 'aren', \"aren't\", 'couldn', \"couldn't\", 'didn', \"didn't\", 'doesn', \"doesn't\", 'hadn', \"hadn't\", 'hasn', \"hasn't\", 'haven', \"haven't\", 'isn', \"isn't\", 'ma', 'mightn', \"mightn't\", 'mustn', \"mustn't\", 'needn', \"needn't\", 'shan', \"shan't\", 'shouldn', \"shouldn't\", 'wasn', \"wasn't\", 'weren', \"weren't\", 'won', \"won't\", 'wouldn', \"wouldn't\"]\n"
          ]
        }
      ],
      "source": [
        "#printing stop words in English\n",
        "print(stopwords.words('english'))"
      ]
    },
    {
      "cell_type": "code",
      "execution_count": null,
      "metadata": {
        "id": "QyvenvMJc_Od"
      },
      "outputs": [],
      "source": [
        "#Data preprocessing\n",
        "#loading dataset into pandas dataframe\n",
        "news_dataset = pd.read_csv('/content/drive/MyDrive/Colab Notebooks/News.csv')"
      ]
    },
    {
      "cell_type": "code",
      "execution_count": null,
      "metadata": {
        "colab": {
          "base_uri": "https://localhost:8080/",
          "height": 206
        },
        "id": "lLtR94EtdX4f",
        "outputId": "40cc8053-ca33-4d9c-e724-56cfc98b198c"
      },
      "outputs": [
        {
          "data": {
            "application/vnd.google.colaboratory.intrinsic+json": {
              "summary": "{\n  \"name\": \"news_dataset\",\n  \"rows\": 44919,\n  \"fields\": [\n    {\n      \"column\": \"Unnamed: 0\",\n      \"properties\": {\n        \"dtype\": \"number\",\n        \"std\": 6525,\n        \"min\": 0,\n        \"max\": 23501,\n        \"num_unique_values\": 23502,\n        \"samples\": [\n          2232,\n          1554,\n          3588\n        ],\n        \"semantic_type\": \"\",\n        \"description\": \"\"\n      }\n    },\n    {\n      \"column\": \"title\",\n      \"properties\": {\n        \"dtype\": \"string\",\n        \"num_unique_values\": 38740,\n        \"samples\": [\n          \" As \\u2018Me Too\\u2019 Posts Flood Social Media, Video Surfaces Of Trump Bragging About Hiring A \\u2018HOT\\u2019 Teenager\",\n          \"American fanfare for Canada's PM raises eyebrows back home\",\n          \" Watch What Happens When A Rapist Pedophile Tries To Panhandle In The Wrong Guy\\u2019s Town (NSFW VIDEO)\"\n        ],\n        \"semantic_type\": \"\",\n        \"description\": \"\"\n      }\n    },\n    {\n      \"column\": \"text\",\n      \"properties\": {\n        \"dtype\": \"string\",\n        \"num_unique_values\": 38657,\n        \"samples\": [\n          \"(Reuters) - Within a few weeks of winning the White House, President-elect Donald Trump could face another group of U.S. citizens, a federal jury in California, courtesy of a lawsuit by former students of his now-defunct Trump University who claim they were defrauded by a series of real-estate seminars. A hearing in federal court in San Diego is set for Thursday, and the trial is scheduled to begin on Nov. 28, barring any delays or if Trump decides to settle the case.    While presidents enjoy immunity from lawsuits arising from their official duties, the U.S. Supreme Court has held that this shield does not extend to acts alleged to have taken place prior to taking office. The 1997 ruling came in the sexual harassment lawsuit filed against President Bill Clinton by Paula Jones, which was settled before it went to trial.  Lawyers said they could think of no similar situation like the one now involving Trump. \\u201cI\\u2019m certain there is nothing comparable to this,\\u201d said    Alan Dershowitz, professor emeritus at Harvard Law School.  Lawyers for both Trump and the plaintiffs declined to comment on Wednesday. Dershowitz said the Supreme Court also held that a case cannot be delayed just because the defendant is president, though judges are still free to grant reasonable delays to any party. Miami trial consultant Sandy Marks, who is not involved in the case, said he thought Trump might ask the presiding judge, Gonzalo Curiel, to postpone the trial in an effort to settle the case before taking office. \\u201cI think the judge would be foolhardy not to give him a short (delay),\\u201d said Marks, \\u201cwhich would give him a chance to resolve the case with all these people and put it behind him.\\u201d Trump repeatedly claimed on the campaign trail that he would win the lawsuit, and he accused Curiel of being biased against him because of his campaign promise to build a wall along the border with Mexico. The judge was born in Indiana to Mexican parents. At the hearing on Thursday, lawyers will argue pre-trial motions, including one by Trump to block potential jurors from hearing comments made or publicized during the campaign, such as those about the judge. Lawyers for the students have argued the comments could help jurors assess Trump\\u2019s credibility as a witness. Trump is listed as defense witness in the case and could be called to testify by the plaintiffs as well. He was previously deposed by the students\\u2019 lawyers.  Claims against Trump over the seminars date to 2010, with two class actions filed in federal court in San Diego and another case brought by New York Attorney General Eric Schneiderman on behalf of students who claim they were misled into paying as much as $35,000 each to learn worthless real estate investing \\u201csecrets\\u201d from instructors \\u201chand-picked\\u201d by Trump. Trump has admitted he did not hand-pick instructors, but has argued the claim was marketing language not meant to be taken literally. He claims most students were happy with their courses.  If the trial goes forward, several legal experts said it would be hard to seat an impartial jury, since so many people already have strong opinions about the president-elect. Parties often hire specialized jury consultants to pick jurors, but New York lawyer Robert Anello said they were not infallible. \\u201cIf experienced pollsters can\\u2019t get it right,\\u201d he said, \\u201chow can a jury consultant who is not spending as much time studying the demographics?\\u201d In an interview a day before the election, Jeffrey Goldman, a lawyer for Trump in the New York case, said the media\\u2019s \\u201cdrumbeat of distortion\\u201d about Trump University would make it hard to find impartial jurors. Several experts noted that jurors, who will answer a questionnaire in addition to being questioned by the lawyers and the judge, are generally taken at their word when they say they can be impartial. Boston jury consultant Edward Schwartz said he expects both sides to make an effort to vet jurors by their public social media postings. Dershowitz noted that San Diego, though located in deep-blue California, is not as politically monolithic as, say, San Francisco. It has an ethnically diverse population and also has a large military presence. \\u201cThis is a jury consultant\\u2019s nightmare to pick in a case like this,\\u201d said Dershowitz. \\u201cIt will be taught in jury consulting school.\\u201d \",\n          \"The alt-right political movement is not something most mainstream voters know much about, but this year it is imperative that they do. This brand of conservativism is one that is disturbing on many levels, and made up of neo-Nazis, white nationalists, and other assorted racist extremists. What s more is that Steve Bannon, head of the insanely bigoted conservative website Breitbart, is now heading up Donald Trump s campaign for president. Therefore, Hillary Clinton is planning to do the people of America a favor this coming Thursday and give a speech educating the people on this fringe movement that is definitely a big player in the Trump campaign.The Clinton campaign says of the speech: This  alt-right  brand is embracing extremism and presenting a divisive and dystopian view of America which should concern all Americans, regardless of party. They go on to remind everyone that Trump s entire campaign staff is made up of people who embrace this bigoted garbage. Indeed, this is something that used to be on the fringes, in the bowels of the interwebs where only basement-dwelling imbeciles who embrace the new white supremacy even knew anything about this largely online  movement. However, Donald Trump has changed all of that, and empowered these dangerous idiots to come into the light. They see him as an inspiration. They have definitely picked up on Trump s dog whistling. After all, we all know that  Make America Great Again,  is really just code for  Make America WHITE Again.  Despite Trump s recent pathetic efforts to reach out to minority voters, we all know what he is REALLY doing   trying to make white people uncomfortable with such blatant racism believe he s just not-racist enough for them to be able to pull the lever for him this November.Thank you, Secretary Clinton, for this public service. Hopefully, people listen.Featured image via Mark Makela/Getty Images\",\n          \"Despite the fact that MSNBC s Morning Joe s main host, Joe Scarborough, is an avowed Republican, the show s hosts and guests from across the political spectrum can t stand Donald Trump. They pull no punches and give his surrogates no breaks. Of course, the tough questions and constant criticism of his fitness for the office he seeks makes The Donald come apart at the seams.On Friday, Trump once again showed just how thin-skinned he is, when he tweeted out a demand for an apology, along with an insult directed at Scarborough s co-host, Mika Brzezskinski, in which he called her  crazy  all for daring to challenge one of his surrogates regarding the racist comments that Trump made about Trump University lawsuit Judge Gonzalo Curiel. Here is the tweet:Wonderful @pastormarkburns was attacked viciously and unfairly on @MSNBC by crazy @morningmika on low ratings @Morning_Joe. Apologize!  Donald J. Trump (@realDonaldTrump) August 26, 2016The conversation to which Trump took such high offense involved a black pastor and ardent Trump supporter Mark Burns. Brzezinski asked Burns:When [Trump] made the comments he made about the judge, saying he was a Mexican, was that racist or not? Of course Trump surrogates, regardless of race, will absolutely not acknowledge that his comments have been racist or that he has been playing footsie with the likes of white supremacists, anti-semites, Ku Klux Klan members and the like. So, of course Burns went on the offensive, saying: If I was in Mr. Trump s shoes, I don t think that it was racist. I understand what real racism is. I m from the South, I m a black man from the Deep South, OK? In South Carolina just two months ago, they re-raised the Confederate flag in my state to celebrate its one year s removal. So for you to sit here and ask me like I don t know what real racism is, I don t think so. Now, as a black woman I don t generally take kindly to white people telling black people how to feel about race, race politics, and racism, but let me tell you, I definitely make an exception when it comes to Uncle Toms. That is what black Trump supporters are. The man has a lengthy and well documented history of racist statements, racist business practices, and associations just from this campaign alone that prove, unequivocally, that even if there is no racism in his head or heart, there s definitely an overt tolerance for racists and racism within the Trump campaign and by Trump himself.Even after Burns was done, Brzezinski continued to hammer Trump, saying, You have no idea   you have no idea what your words mean.  And to top it all off, Scarborough took a shot at Trump for his addiction to Twitter, and to watching his own press coverage:Is Donald Trump crazy? You betcha.Crazy for Morning Joe. The Trump U founder just can't quit us! https://t.co/YG7C7tQNUN  Joe Scarborough (@JoeNBC) August 26, 2016Indeed, it is Trump who is the crazy one here, not Mika. He should be worried about his slipping polls numbers and campaigning rather than feuding with television pundits. Once again, he shows how temperamentally unfit he is to lead this great nation. Good one, Joe.Featured image via Jeff Swensen/Getty Images\"\n        ],\n        \"semantic_type\": \"\",\n        \"description\": \"\"\n      }\n    },\n    {\n      \"column\": \"subject\",\n      \"properties\": {\n        \"dtype\": \"category\",\n        \"num_unique_values\": 19,\n        \"samples\": [\n          \"News\",\n          \"Government News\",\n          \" state systems with outsized pretensions to power have reacted to their environments in two ways. The first strategy\"\n        ],\n        \"semantic_type\": \"\",\n        \"description\": \"\"\n      }\n    },\n    {\n      \"column\": \"date\",\n      \"properties\": {\n        \"dtype\": \"category\",\n        \"num_unique_values\": 2408,\n        \"samples\": [\n          \"August 27, 2016 \",\n          \"September 10, 2016 \",\n          \"Jan 24, 2016\"\n        ],\n        \"semantic_type\": \"\",\n        \"description\": \"\"\n      }\n    },\n    {\n      \"column\": \"class\",\n      \"properties\": {\n        \"dtype\": \"number\",\n        \"std\": 0,\n        \"min\": 0,\n        \"max\": 1,\n        \"num_unique_values\": 2,\n        \"samples\": [\n          1,\n          0\n        ],\n        \"semantic_type\": \"\",\n        \"description\": \"\"\n      }\n    }\n  ]\n}",
              "type": "dataframe",
              "variable_name": "news_dataset"
            },
            "text/html": [
              "\n",
              "  <div id=\"df-470fc484-346b-479e-8c15-cbcce59cacce\" class=\"colab-df-container\">\n",
              "    <div>\n",
              "<style scoped>\n",
              "    .dataframe tbody tr th:only-of-type {\n",
              "        vertical-align: middle;\n",
              "    }\n",
              "\n",
              "    .dataframe tbody tr th {\n",
              "        vertical-align: top;\n",
              "    }\n",
              "\n",
              "    .dataframe thead th {\n",
              "        text-align: right;\n",
              "    }\n",
              "</style>\n",
              "<table border=\"1\" class=\"dataframe\">\n",
              "  <thead>\n",
              "    <tr style=\"text-align: right;\">\n",
              "      <th></th>\n",
              "      <th>Unnamed: 0</th>\n",
              "      <th>title</th>\n",
              "      <th>text</th>\n",
              "      <th>subject</th>\n",
              "      <th>date</th>\n",
              "      <th>class</th>\n",
              "    </tr>\n",
              "  </thead>\n",
              "  <tbody>\n",
              "    <tr>\n",
              "      <th>0</th>\n",
              "      <td>0</td>\n",
              "      <td>Donald Trump Sends Out Embarrassing New Year’...</td>\n",
              "      <td>Donald Trump just couldn t wish all Americans ...</td>\n",
              "      <td>News</td>\n",
              "      <td>December 31, 2017</td>\n",
              "      <td>0</td>\n",
              "    </tr>\n",
              "    <tr>\n",
              "      <th>1</th>\n",
              "      <td>1</td>\n",
              "      <td>Drunk Bragging Trump Staffer Started Russian ...</td>\n",
              "      <td>House Intelligence Committee Chairman Devin Nu...</td>\n",
              "      <td>News</td>\n",
              "      <td>December 31, 2017</td>\n",
              "      <td>0</td>\n",
              "    </tr>\n",
              "    <tr>\n",
              "      <th>2</th>\n",
              "      <td>2</td>\n",
              "      <td>Sheriff David Clarke Becomes An Internet Joke...</td>\n",
              "      <td>On Friday, it was revealed that former Milwauk...</td>\n",
              "      <td>News</td>\n",
              "      <td>December 30, 2017</td>\n",
              "      <td>0</td>\n",
              "    </tr>\n",
              "    <tr>\n",
              "      <th>3</th>\n",
              "      <td>3</td>\n",
              "      <td>Trump Is So Obsessed He Even Has Obama’s Name...</td>\n",
              "      <td>On Christmas day, Donald Trump announced that ...</td>\n",
              "      <td>News</td>\n",
              "      <td>December 29, 2017</td>\n",
              "      <td>0</td>\n",
              "    </tr>\n",
              "    <tr>\n",
              "      <th>4</th>\n",
              "      <td>4</td>\n",
              "      <td>Pope Francis Just Called Out Donald Trump Dur...</td>\n",
              "      <td>Pope Francis used his annual Christmas Day mes...</td>\n",
              "      <td>News</td>\n",
              "      <td>December 25, 2017</td>\n",
              "      <td>0</td>\n",
              "    </tr>\n",
              "  </tbody>\n",
              "</table>\n",
              "</div>\n",
              "    <div class=\"colab-df-buttons\">\n",
              "\n",
              "  <div class=\"colab-df-container\">\n",
              "    <button class=\"colab-df-convert\" onclick=\"convertToInteractive('df-470fc484-346b-479e-8c15-cbcce59cacce')\"\n",
              "            title=\"Convert this dataframe to an interactive table.\"\n",
              "            style=\"display:none;\">\n",
              "\n",
              "  <svg xmlns=\"http://www.w3.org/2000/svg\" height=\"24px\" viewBox=\"0 -960 960 960\">\n",
              "    <path d=\"M120-120v-720h720v720H120Zm60-500h600v-160H180v160Zm220 220h160v-160H400v160Zm0 220h160v-160H400v160ZM180-400h160v-160H180v160Zm440 0h160v-160H620v160ZM180-180h160v-160H180v160Zm440 0h160v-160H620v160Z\"/>\n",
              "  </svg>\n",
              "    </button>\n",
              "\n",
              "  <style>\n",
              "    .colab-df-container {\n",
              "      display:flex;\n",
              "      gap: 12px;\n",
              "    }\n",
              "\n",
              "    .colab-df-convert {\n",
              "      background-color: #E8F0FE;\n",
              "      border: none;\n",
              "      border-radius: 50%;\n",
              "      cursor: pointer;\n",
              "      display: none;\n",
              "      fill: #1967D2;\n",
              "      height: 32px;\n",
              "      padding: 0 0 0 0;\n",
              "      width: 32px;\n",
              "    }\n",
              "\n",
              "    .colab-df-convert:hover {\n",
              "      background-color: #E2EBFA;\n",
              "      box-shadow: 0px 1px 2px rgba(60, 64, 67, 0.3), 0px 1px 3px 1px rgba(60, 64, 67, 0.15);\n",
              "      fill: #174EA6;\n",
              "    }\n",
              "\n",
              "    .colab-df-buttons div {\n",
              "      margin-bottom: 4px;\n",
              "    }\n",
              "\n",
              "    [theme=dark] .colab-df-convert {\n",
              "      background-color: #3B4455;\n",
              "      fill: #D2E3FC;\n",
              "    }\n",
              "\n",
              "    [theme=dark] .colab-df-convert:hover {\n",
              "      background-color: #434B5C;\n",
              "      box-shadow: 0px 1px 3px 1px rgba(0, 0, 0, 0.15);\n",
              "      filter: drop-shadow(0px 1px 2px rgba(0, 0, 0, 0.3));\n",
              "      fill: #FFFFFF;\n",
              "    }\n",
              "  </style>\n",
              "\n",
              "    <script>\n",
              "      const buttonEl =\n",
              "        document.querySelector('#df-470fc484-346b-479e-8c15-cbcce59cacce button.colab-df-convert');\n",
              "      buttonEl.style.display =\n",
              "        google.colab.kernel.accessAllowed ? 'block' : 'none';\n",
              "\n",
              "      async function convertToInteractive(key) {\n",
              "        const element = document.querySelector('#df-470fc484-346b-479e-8c15-cbcce59cacce');\n",
              "        const dataTable =\n",
              "          await google.colab.kernel.invokeFunction('convertToInteractive',\n",
              "                                                    [key], {});\n",
              "        if (!dataTable) return;\n",
              "\n",
              "        const docLinkHtml = 'Like what you see? Visit the ' +\n",
              "          '<a target=\"_blank\" href=https://colab.research.google.com/notebooks/data_table.ipynb>data table notebook</a>'\n",
              "          + ' to learn more about interactive tables.';\n",
              "        element.innerHTML = '';\n",
              "        dataTable['output_type'] = 'display_data';\n",
              "        await google.colab.output.renderOutput(dataTable, element);\n",
              "        const docLink = document.createElement('div');\n",
              "        docLink.innerHTML = docLinkHtml;\n",
              "        element.appendChild(docLink);\n",
              "      }\n",
              "    </script>\n",
              "  </div>\n",
              "\n",
              "\n",
              "<div id=\"df-2a131827-3a46-4fbe-9268-e8064596b70c\">\n",
              "  <button class=\"colab-df-quickchart\" onclick=\"quickchart('df-2a131827-3a46-4fbe-9268-e8064596b70c')\"\n",
              "            title=\"Suggest charts\"\n",
              "            style=\"display:none;\">\n",
              "\n",
              "<svg xmlns=\"http://www.w3.org/2000/svg\" height=\"24px\"viewBox=\"0 0 24 24\"\n",
              "     width=\"24px\">\n",
              "    <g>\n",
              "        <path d=\"M19 3H5c-1.1 0-2 .9-2 2v14c0 1.1.9 2 2 2h14c1.1 0 2-.9 2-2V5c0-1.1-.9-2-2-2zM9 17H7v-7h2v7zm4 0h-2V7h2v10zm4 0h-2v-4h2v4z\"/>\n",
              "    </g>\n",
              "</svg>\n",
              "  </button>\n",
              "\n",
              "<style>\n",
              "  .colab-df-quickchart {\n",
              "      --bg-color: #E8F0FE;\n",
              "      --fill-color: #1967D2;\n",
              "      --hover-bg-color: #E2EBFA;\n",
              "      --hover-fill-color: #174EA6;\n",
              "      --disabled-fill-color: #AAA;\n",
              "      --disabled-bg-color: #DDD;\n",
              "  }\n",
              "\n",
              "  [theme=dark] .colab-df-quickchart {\n",
              "      --bg-color: #3B4455;\n",
              "      --fill-color: #D2E3FC;\n",
              "      --hover-bg-color: #434B5C;\n",
              "      --hover-fill-color: #FFFFFF;\n",
              "      --disabled-bg-color: #3B4455;\n",
              "      --disabled-fill-color: #666;\n",
              "  }\n",
              "\n",
              "  .colab-df-quickchart {\n",
              "    background-color: var(--bg-color);\n",
              "    border: none;\n",
              "    border-radius: 50%;\n",
              "    cursor: pointer;\n",
              "    display: none;\n",
              "    fill: var(--fill-color);\n",
              "    height: 32px;\n",
              "    padding: 0;\n",
              "    width: 32px;\n",
              "  }\n",
              "\n",
              "  .colab-df-quickchart:hover {\n",
              "    background-color: var(--hover-bg-color);\n",
              "    box-shadow: 0 1px 2px rgba(60, 64, 67, 0.3), 0 1px 3px 1px rgba(60, 64, 67, 0.15);\n",
              "    fill: var(--button-hover-fill-color);\n",
              "  }\n",
              "\n",
              "  .colab-df-quickchart-complete:disabled,\n",
              "  .colab-df-quickchart-complete:disabled:hover {\n",
              "    background-color: var(--disabled-bg-color);\n",
              "    fill: var(--disabled-fill-color);\n",
              "    box-shadow: none;\n",
              "  }\n",
              "\n",
              "  .colab-df-spinner {\n",
              "    border: 2px solid var(--fill-color);\n",
              "    border-color: transparent;\n",
              "    border-bottom-color: var(--fill-color);\n",
              "    animation:\n",
              "      spin 1s steps(1) infinite;\n",
              "  }\n",
              "\n",
              "  @keyframes spin {\n",
              "    0% {\n",
              "      border-color: transparent;\n",
              "      border-bottom-color: var(--fill-color);\n",
              "      border-left-color: var(--fill-color);\n",
              "    }\n",
              "    20% {\n",
              "      border-color: transparent;\n",
              "      border-left-color: var(--fill-color);\n",
              "      border-top-color: var(--fill-color);\n",
              "    }\n",
              "    30% {\n",
              "      border-color: transparent;\n",
              "      border-left-color: var(--fill-color);\n",
              "      border-top-color: var(--fill-color);\n",
              "      border-right-color: var(--fill-color);\n",
              "    }\n",
              "    40% {\n",
              "      border-color: transparent;\n",
              "      border-right-color: var(--fill-color);\n",
              "      border-top-color: var(--fill-color);\n",
              "    }\n",
              "    60% {\n",
              "      border-color: transparent;\n",
              "      border-right-color: var(--fill-color);\n",
              "    }\n",
              "    80% {\n",
              "      border-color: transparent;\n",
              "      border-right-color: var(--fill-color);\n",
              "      border-bottom-color: var(--fill-color);\n",
              "    }\n",
              "    90% {\n",
              "      border-color: transparent;\n",
              "      border-bottom-color: var(--fill-color);\n",
              "    }\n",
              "  }\n",
              "</style>\n",
              "\n",
              "  <script>\n",
              "    async function quickchart(key) {\n",
              "      const quickchartButtonEl =\n",
              "        document.querySelector('#' + key + ' button');\n",
              "      quickchartButtonEl.disabled = true;  // To prevent multiple clicks.\n",
              "      quickchartButtonEl.classList.add('colab-df-spinner');\n",
              "      try {\n",
              "        const charts = await google.colab.kernel.invokeFunction(\n",
              "            'suggestCharts', [key], {});\n",
              "      } catch (error) {\n",
              "        console.error('Error during call to suggestCharts:', error);\n",
              "      }\n",
              "      quickchartButtonEl.classList.remove('colab-df-spinner');\n",
              "      quickchartButtonEl.classList.add('colab-df-quickchart-complete');\n",
              "    }\n",
              "    (() => {\n",
              "      let quickchartButtonEl =\n",
              "        document.querySelector('#df-2a131827-3a46-4fbe-9268-e8064596b70c button');\n",
              "      quickchartButtonEl.style.display =\n",
              "        google.colab.kernel.accessAllowed ? 'block' : 'none';\n",
              "    })();\n",
              "  </script>\n",
              "</div>\n",
              "\n",
              "    </div>\n",
              "  </div>\n"
            ],
            "text/plain": [
              "   Unnamed: 0                                              title  \\\n",
              "0           0   Donald Trump Sends Out Embarrassing New Year’...   \n",
              "1           1   Drunk Bragging Trump Staffer Started Russian ...   \n",
              "2           2   Sheriff David Clarke Becomes An Internet Joke...   \n",
              "3           3   Trump Is So Obsessed He Even Has Obama’s Name...   \n",
              "4           4   Pope Francis Just Called Out Donald Trump Dur...   \n",
              "\n",
              "                                                text subject  \\\n",
              "0  Donald Trump just couldn t wish all Americans ...    News   \n",
              "1  House Intelligence Committee Chairman Devin Nu...    News   \n",
              "2  On Friday, it was revealed that former Milwauk...    News   \n",
              "3  On Christmas day, Donald Trump announced that ...    News   \n",
              "4  Pope Francis used his annual Christmas Day mes...    News   \n",
              "\n",
              "                date  class  \n",
              "0  December 31, 2017      0  \n",
              "1  December 31, 2017      0  \n",
              "2  December 30, 2017      0  \n",
              "3  December 29, 2017      0  \n",
              "4  December 25, 2017      0  "
            ]
          },
          "execution_count": 11,
          "metadata": {},
          "output_type": "execute_result"
        }
      ],
      "source": [
        "#print first 5 rows of dataset\n",
        "news_dataset.head()"
      ]
    },
    {
      "cell_type": "code",
      "execution_count": null,
      "metadata": {
        "colab": {
          "base_uri": "https://localhost:8080/"
        },
        "id": "b4YBFVAHdcug",
        "outputId": "d2413605-4882-4dbe-bf30-7f446901b0ed"
      },
      "outputs": [
        {
          "data": {
            "text/plain": [
              "(44919, 6)"
            ]
          },
          "execution_count": 10,
          "metadata": {},
          "output_type": "execute_result"
        }
      ],
      "source": [
        "news_dataset.shape"
      ]
    },
    {
      "cell_type": "code",
      "execution_count": null,
      "metadata": {
        "colab": {
          "base_uri": "https://localhost:8080/",
          "height": 206
        },
        "id": "eJngv7_6duXa",
        "outputId": "c7db9710-821d-4077-94a8-beb7b6edb5b7"
      },
      "outputs": [
        {
          "data": {
            "application/vnd.google.colaboratory.intrinsic+json": {
              "repr_error": "'str' object has no attribute 'empty'",
              "type": "dataframe"
            },
            "text/html": [
              "\n",
              "  <div id=\"df-3d529d09-2821-4b0c-b12a-278c4addaba1\" class=\"colab-df-container\">\n",
              "    <div>\n",
              "<style scoped>\n",
              "    .dataframe tbody tr th:only-of-type {\n",
              "        vertical-align: middle;\n",
              "    }\n",
              "\n",
              "    .dataframe tbody tr th {\n",
              "        vertical-align: top;\n",
              "    }\n",
              "\n",
              "    .dataframe thead th {\n",
              "        text-align: right;\n",
              "    }\n",
              "</style>\n",
              "<table border=\"1\" class=\"dataframe\">\n",
              "  <thead>\n",
              "    <tr style=\"text-align: right;\">\n",
              "      <th></th>\n",
              "      <th>Unnamed: 0</th>\n",
              "      <th>title</th>\n",
              "      <th>text</th>\n",
              "      <th>subject</th>\n",
              "      <th>date</th>\n",
              "      <th>class</th>\n",
              "    </tr>\n",
              "  </thead>\n",
              "  <tbody>\n",
              "    <tr>\n",
              "      <th>44914</th>\n",
              "      <td>21412</td>\n",
              "      <td>'Fully committed' NATO backs new U.S. approach...</td>\n",
              "      <td>BRUSSELS (Reuters) - NATO allies on Tuesday we...</td>\n",
              "      <td>worldnews</td>\n",
              "      <td>August 22, 2017</td>\n",
              "      <td>1</td>\n",
              "    </tr>\n",
              "    <tr>\n",
              "      <th>44915</th>\n",
              "      <td>21413</td>\n",
              "      <td>LexisNexis withdrew two products from Chinese ...</td>\n",
              "      <td>LONDON (Reuters) - LexisNexis, a provider of l...</td>\n",
              "      <td>worldnews</td>\n",
              "      <td>August 22, 2017</td>\n",
              "      <td>1</td>\n",
              "    </tr>\n",
              "    <tr>\n",
              "      <th>44916</th>\n",
              "      <td>21414</td>\n",
              "      <td>Minsk cultural hub becomes haven from authorities</td>\n",
              "      <td>MINSK (Reuters) - In the shadow of disused Sov...</td>\n",
              "      <td>worldnews</td>\n",
              "      <td>August 22, 2017</td>\n",
              "      <td>1</td>\n",
              "    </tr>\n",
              "    <tr>\n",
              "      <th>44917</th>\n",
              "      <td>21415</td>\n",
              "      <td>Vatican upbeat on possibility of Pope Francis ...</td>\n",
              "      <td>MOSCOW (Reuters) - Vatican Secretary of State ...</td>\n",
              "      <td>worldnews</td>\n",
              "      <td>August 22, 2017</td>\n",
              "      <td>1</td>\n",
              "    </tr>\n",
              "    <tr>\n",
              "      <th>44918</th>\n",
              "      <td>21416</td>\n",
              "      <td>Indonesia to buy $1.14 billion worth of Russia...</td>\n",
              "      <td>JAKARTA (Reuters) - Indonesia will buy 11 Sukh...</td>\n",
              "      <td>worldnews</td>\n",
              "      <td>August 22, 2017</td>\n",
              "      <td>1</td>\n",
              "    </tr>\n",
              "  </tbody>\n",
              "</table>\n",
              "</div>\n",
              "    <div class=\"colab-df-buttons\">\n",
              "\n",
              "  <div class=\"colab-df-container\">\n",
              "    <button class=\"colab-df-convert\" onclick=\"convertToInteractive('df-3d529d09-2821-4b0c-b12a-278c4addaba1')\"\n",
              "            title=\"Convert this dataframe to an interactive table.\"\n",
              "            style=\"display:none;\">\n",
              "\n",
              "  <svg xmlns=\"http://www.w3.org/2000/svg\" height=\"24px\" viewBox=\"0 -960 960 960\">\n",
              "    <path d=\"M120-120v-720h720v720H120Zm60-500h600v-160H180v160Zm220 220h160v-160H400v160Zm0 220h160v-160H400v160ZM180-400h160v-160H180v160Zm440 0h160v-160H620v160ZM180-180h160v-160H180v160Zm440 0h160v-160H620v160Z\"/>\n",
              "  </svg>\n",
              "    </button>\n",
              "\n",
              "  <style>\n",
              "    .colab-df-container {\n",
              "      display:flex;\n",
              "      gap: 12px;\n",
              "    }\n",
              "\n",
              "    .colab-df-convert {\n",
              "      background-color: #E8F0FE;\n",
              "      border: none;\n",
              "      border-radius: 50%;\n",
              "      cursor: pointer;\n",
              "      display: none;\n",
              "      fill: #1967D2;\n",
              "      height: 32px;\n",
              "      padding: 0 0 0 0;\n",
              "      width: 32px;\n",
              "    }\n",
              "\n",
              "    .colab-df-convert:hover {\n",
              "      background-color: #E2EBFA;\n",
              "      box-shadow: 0px 1px 2px rgba(60, 64, 67, 0.3), 0px 1px 3px 1px rgba(60, 64, 67, 0.15);\n",
              "      fill: #174EA6;\n",
              "    }\n",
              "\n",
              "    .colab-df-buttons div {\n",
              "      margin-bottom: 4px;\n",
              "    }\n",
              "\n",
              "    [theme=dark] .colab-df-convert {\n",
              "      background-color: #3B4455;\n",
              "      fill: #D2E3FC;\n",
              "    }\n",
              "\n",
              "    [theme=dark] .colab-df-convert:hover {\n",
              "      background-color: #434B5C;\n",
              "      box-shadow: 0px 1px 3px 1px rgba(0, 0, 0, 0.15);\n",
              "      filter: drop-shadow(0px 1px 2px rgba(0, 0, 0, 0.3));\n",
              "      fill: #FFFFFF;\n",
              "    }\n",
              "  </style>\n",
              "\n",
              "    <script>\n",
              "      const buttonEl =\n",
              "        document.querySelector('#df-3d529d09-2821-4b0c-b12a-278c4addaba1 button.colab-df-convert');\n",
              "      buttonEl.style.display =\n",
              "        google.colab.kernel.accessAllowed ? 'block' : 'none';\n",
              "\n",
              "      async function convertToInteractive(key) {\n",
              "        const element = document.querySelector('#df-3d529d09-2821-4b0c-b12a-278c4addaba1');\n",
              "        const dataTable =\n",
              "          await google.colab.kernel.invokeFunction('convertToInteractive',\n",
              "                                                    [key], {});\n",
              "        if (!dataTable) return;\n",
              "\n",
              "        const docLinkHtml = 'Like what you see? Visit the ' +\n",
              "          '<a target=\"_blank\" href=https://colab.research.google.com/notebooks/data_table.ipynb>data table notebook</a>'\n",
              "          + ' to learn more about interactive tables.';\n",
              "        element.innerHTML = '';\n",
              "        dataTable['output_type'] = 'display_data';\n",
              "        await google.colab.output.renderOutput(dataTable, element);\n",
              "        const docLink = document.createElement('div');\n",
              "        docLink.innerHTML = docLinkHtml;\n",
              "        element.appendChild(docLink);\n",
              "      }\n",
              "    </script>\n",
              "  </div>\n",
              "\n",
              "\n",
              "<div id=\"df-93c66ce5-2ff9-4d0d-9b60-273de0c01fcc\">\n",
              "  <button class=\"colab-df-quickchart\" onclick=\"quickchart('df-93c66ce5-2ff9-4d0d-9b60-273de0c01fcc')\"\n",
              "            title=\"Suggest charts\"\n",
              "            style=\"display:none;\">\n",
              "\n",
              "<svg xmlns=\"http://www.w3.org/2000/svg\" height=\"24px\"viewBox=\"0 0 24 24\"\n",
              "     width=\"24px\">\n",
              "    <g>\n",
              "        <path d=\"M19 3H5c-1.1 0-2 .9-2 2v14c0 1.1.9 2 2 2h14c1.1 0 2-.9 2-2V5c0-1.1-.9-2-2-2zM9 17H7v-7h2v7zm4 0h-2V7h2v10zm4 0h-2v-4h2v4z\"/>\n",
              "    </g>\n",
              "</svg>\n",
              "  </button>\n",
              "\n",
              "<style>\n",
              "  .colab-df-quickchart {\n",
              "      --bg-color: #E8F0FE;\n",
              "      --fill-color: #1967D2;\n",
              "      --hover-bg-color: #E2EBFA;\n",
              "      --hover-fill-color: #174EA6;\n",
              "      --disabled-fill-color: #AAA;\n",
              "      --disabled-bg-color: #DDD;\n",
              "  }\n",
              "\n",
              "  [theme=dark] .colab-df-quickchart {\n",
              "      --bg-color: #3B4455;\n",
              "      --fill-color: #D2E3FC;\n",
              "      --hover-bg-color: #434B5C;\n",
              "      --hover-fill-color: #FFFFFF;\n",
              "      --disabled-bg-color: #3B4455;\n",
              "      --disabled-fill-color: #666;\n",
              "  }\n",
              "\n",
              "  .colab-df-quickchart {\n",
              "    background-color: var(--bg-color);\n",
              "    border: none;\n",
              "    border-radius: 50%;\n",
              "    cursor: pointer;\n",
              "    display: none;\n",
              "    fill: var(--fill-color);\n",
              "    height: 32px;\n",
              "    padding: 0;\n",
              "    width: 32px;\n",
              "  }\n",
              "\n",
              "  .colab-df-quickchart:hover {\n",
              "    background-color: var(--hover-bg-color);\n",
              "    box-shadow: 0 1px 2px rgba(60, 64, 67, 0.3), 0 1px 3px 1px rgba(60, 64, 67, 0.15);\n",
              "    fill: var(--button-hover-fill-color);\n",
              "  }\n",
              "\n",
              "  .colab-df-quickchart-complete:disabled,\n",
              "  .colab-df-quickchart-complete:disabled:hover {\n",
              "    background-color: var(--disabled-bg-color);\n",
              "    fill: var(--disabled-fill-color);\n",
              "    box-shadow: none;\n",
              "  }\n",
              "\n",
              "  .colab-df-spinner {\n",
              "    border: 2px solid var(--fill-color);\n",
              "    border-color: transparent;\n",
              "    border-bottom-color: var(--fill-color);\n",
              "    animation:\n",
              "      spin 1s steps(1) infinite;\n",
              "  }\n",
              "\n",
              "  @keyframes spin {\n",
              "    0% {\n",
              "      border-color: transparent;\n",
              "      border-bottom-color: var(--fill-color);\n",
              "      border-left-color: var(--fill-color);\n",
              "    }\n",
              "    20% {\n",
              "      border-color: transparent;\n",
              "      border-left-color: var(--fill-color);\n",
              "      border-top-color: var(--fill-color);\n",
              "    }\n",
              "    30% {\n",
              "      border-color: transparent;\n",
              "      border-left-color: var(--fill-color);\n",
              "      border-top-color: var(--fill-color);\n",
              "      border-right-color: var(--fill-color);\n",
              "    }\n",
              "    40% {\n",
              "      border-color: transparent;\n",
              "      border-right-color: var(--fill-color);\n",
              "      border-top-color: var(--fill-color);\n",
              "    }\n",
              "    60% {\n",
              "      border-color: transparent;\n",
              "      border-right-color: var(--fill-color);\n",
              "    }\n",
              "    80% {\n",
              "      border-color: transparent;\n",
              "      border-right-color: var(--fill-color);\n",
              "      border-bottom-color: var(--fill-color);\n",
              "    }\n",
              "    90% {\n",
              "      border-color: transparent;\n",
              "      border-bottom-color: var(--fill-color);\n",
              "    }\n",
              "  }\n",
              "</style>\n",
              "\n",
              "  <script>\n",
              "    async function quickchart(key) {\n",
              "      const quickchartButtonEl =\n",
              "        document.querySelector('#' + key + ' button');\n",
              "      quickchartButtonEl.disabled = true;  // To prevent multiple clicks.\n",
              "      quickchartButtonEl.classList.add('colab-df-spinner');\n",
              "      try {\n",
              "        const charts = await google.colab.kernel.invokeFunction(\n",
              "            'suggestCharts', [key], {});\n",
              "      } catch (error) {\n",
              "        console.error('Error during call to suggestCharts:', error);\n",
              "      }\n",
              "      quickchartButtonEl.classList.remove('colab-df-spinner');\n",
              "      quickchartButtonEl.classList.add('colab-df-quickchart-complete');\n",
              "    }\n",
              "    (() => {\n",
              "      let quickchartButtonEl =\n",
              "        document.querySelector('#df-93c66ce5-2ff9-4d0d-9b60-273de0c01fcc button');\n",
              "      quickchartButtonEl.style.display =\n",
              "        google.colab.kernel.accessAllowed ? 'block' : 'none';\n",
              "    })();\n",
              "  </script>\n",
              "</div>\n",
              "\n",
              "    </div>\n",
              "  </div>\n"
            ],
            "text/plain": [
              "       Unnamed: 0                                              title  \\\n",
              "44914       21412  'Fully committed' NATO backs new U.S. approach...   \n",
              "44915       21413  LexisNexis withdrew two products from Chinese ...   \n",
              "44916       21414  Minsk cultural hub becomes haven from authorities   \n",
              "44917       21415  Vatican upbeat on possibility of Pope Francis ...   \n",
              "44918       21416  Indonesia to buy $1.14 billion worth of Russia...   \n",
              "\n",
              "                                                    text    subject  \\\n",
              "44914  BRUSSELS (Reuters) - NATO allies on Tuesday we...  worldnews   \n",
              "44915  LONDON (Reuters) - LexisNexis, a provider of l...  worldnews   \n",
              "44916  MINSK (Reuters) - In the shadow of disused Sov...  worldnews   \n",
              "44917  MOSCOW (Reuters) - Vatican Secretary of State ...  worldnews   \n",
              "44918  JAKARTA (Reuters) - Indonesia will buy 11 Sukh...  worldnews   \n",
              "\n",
              "                   date  class  \n",
              "44914  August 22, 2017       1  \n",
              "44915  August 22, 2017       1  \n",
              "44916  August 22, 2017       1  \n",
              "44917  August 22, 2017       1  \n",
              "44918  August 22, 2017       1  "
            ]
          },
          "execution_count": 13,
          "metadata": {},
          "output_type": "execute_result"
        }
      ],
      "source": [
        "news_dataset.tail()"
      ]
    },
    {
      "cell_type": "code",
      "execution_count": null,
      "metadata": {
        "colab": {
          "base_uri": "https://localhost:8080/"
        },
        "id": "ez9FUXBuefeN",
        "outputId": "66861115-1010-4f52-a8e0-42e4bf3b805c"
      },
      "outputs": [
        {
          "data": {
            "text/plain": [
              "Unnamed: 0     0\n",
              "title          0\n",
              "text           0\n",
              "subject       21\n",
              "date          21\n",
              "class          0\n",
              "dtype: int64"
            ]
          },
          "execution_count": 14,
          "metadata": {},
          "output_type": "execute_result"
        }
      ],
      "source": [
        "#count the number of missing values\n",
        "news_dataset.isnull().sum()"
      ]
    },
    {
      "cell_type": "code",
      "execution_count": null,
      "metadata": {
        "id": "Ke2jdb7qevXP"
      },
      "outputs": [],
      "source": [
        "#replacing null values with empty string\n",
        "news_dataset = news_dataset.fillna('')"
      ]
    },
    {
      "cell_type": "code",
      "execution_count": null,
      "metadata": {
        "colab": {
          "base_uri": "https://localhost:8080/"
        },
        "id": "rfX6BKzQfO9Z",
        "outputId": "2ae5a216-507e-45d9-e914-38069c4dcd7e"
      },
      "outputs": [
        {
          "data": {
            "text/plain": [
              "Unnamed: 0    0\n",
              "title         0\n",
              "text          0\n",
              "subject       0\n",
              "date          0\n",
              "class         0\n",
              "dtype: int64"
            ]
          },
          "execution_count": 16,
          "metadata": {},
          "output_type": "execute_result"
        }
      ],
      "source": [
        "news_dataset.isnull().sum()"
      ]
    },
    {
      "cell_type": "code",
      "execution_count": null,
      "metadata": {
        "colab": {
          "base_uri": "https://localhost:8080/"
        },
        "id": "IldYzcVYfUTA",
        "outputId": "c87c178a-8d0c-4e28-d8c1-90d96a6ec83c"
      },
      "outputs": [
        {
          "name": "stdout",
          "output_type": "stream",
          "text": [
            "0         Donald Trump Sends Out Embarrassing New Year’...\n",
            "1         Drunk Bragging Trump Staffer Started Russian ...\n",
            "2         Sheriff David Clarke Becomes An Internet Joke...\n",
            "3         Trump Is So Obsessed He Even Has Obama’s Name...\n",
            "4         Pope Francis Just Called Out Donald Trump Dur...\n",
            "                               ...                        \n",
            "44914    'Fully committed' NATO backs new U.S. approach...\n",
            "44915    LexisNexis withdrew two products from Chinese ...\n",
            "44916    Minsk cultural hub becomes haven from authorit...\n",
            "44917    Vatican upbeat on possibility of Pope Francis ...\n",
            "44918    Indonesia to buy $1.14 billion worth of Russia...\n",
            "Name: content, Length: 44919, dtype: object\n"
          ]
        }
      ],
      "source": [
        "#merging title and text of dataset\n",
        "news_dataset['content'] = news_dataset['title']+' '+news_dataset['text']\n",
        "print(news_dataset['content'])"
      ]
    },
    {
      "cell_type": "code",
      "execution_count": null,
      "metadata": {
        "id": "ekLvO8kkf34y"
      },
      "outputs": [],
      "source": [
        "#separating the content and class column from rest of the dataset\n",
        "X = news_dataset.drop(columns = 'class', axis = 1)# x stores all the values of dataset except class\n",
        "# removing data from column then axis = 1 removing data from row axis = 0\n",
        "Y = news_dataset['class']# y stores the values of class column"
      ]
    },
    {
      "cell_type": "code",
      "execution_count": null,
      "metadata": {
        "colab": {
          "base_uri": "https://localhost:8080/"
        },
        "id": "hyoMIjJXhDTM",
        "outputId": "8808e569-0deb-4ae6-bb44-8ae346639c84"
      },
      "outputs": [
        {
          "name": "stdout",
          "output_type": "stream",
          "text": [
            "       Unnamed: 0                                              title  \\\n",
            "0               0   Donald Trump Sends Out Embarrassing New Year’...   \n",
            "1               1   Drunk Bragging Trump Staffer Started Russian ...   \n",
            "2               2   Sheriff David Clarke Becomes An Internet Joke...   \n",
            "3               3   Trump Is So Obsessed He Even Has Obama’s Name...   \n",
            "4               4   Pope Francis Just Called Out Donald Trump Dur...   \n",
            "...           ...                                                ...   \n",
            "44914       21412  'Fully committed' NATO backs new U.S. approach...   \n",
            "44915       21413  LexisNexis withdrew two products from Chinese ...   \n",
            "44916       21414  Minsk cultural hub becomes haven from authorities   \n",
            "44917       21415  Vatican upbeat on possibility of Pope Francis ...   \n",
            "44918       21416  Indonesia to buy $1.14 billion worth of Russia...   \n",
            "\n",
            "                                                    text    subject  \\\n",
            "0      Donald Trump just couldn t wish all Americans ...       News   \n",
            "1      House Intelligence Committee Chairman Devin Nu...       News   \n",
            "2      On Friday, it was revealed that former Milwauk...       News   \n",
            "3      On Christmas day, Donald Trump announced that ...       News   \n",
            "4      Pope Francis used his annual Christmas Day mes...       News   \n",
            "...                                                  ...        ...   \n",
            "44914  BRUSSELS (Reuters) - NATO allies on Tuesday we...  worldnews   \n",
            "44915  LONDON (Reuters) - LexisNexis, a provider of l...  worldnews   \n",
            "44916  MINSK (Reuters) - In the shadow of disused Sov...  worldnews   \n",
            "44917  MOSCOW (Reuters) - Vatican Secretary of State ...  worldnews   \n",
            "44918  JAKARTA (Reuters) - Indonesia will buy 11 Sukh...  worldnews   \n",
            "\n",
            "                    date                                            content  \n",
            "0      December 31, 2017   Donald Trump Sends Out Embarrassing New Year’...  \n",
            "1      December 31, 2017   Drunk Bragging Trump Staffer Started Russian ...  \n",
            "2      December 30, 2017   Sheriff David Clarke Becomes An Internet Joke...  \n",
            "3      December 29, 2017   Trump Is So Obsessed He Even Has Obama’s Name...  \n",
            "4      December 25, 2017   Pope Francis Just Called Out Donald Trump Dur...  \n",
            "...                  ...                                                ...  \n",
            "44914   August 22, 2017   'Fully committed' NATO backs new U.S. approach...  \n",
            "44915   August 22, 2017   LexisNexis withdrew two products from Chinese ...  \n",
            "44916   August 22, 2017   Minsk cultural hub becomes haven from authorit...  \n",
            "44917   August 22, 2017   Vatican upbeat on possibility of Pope Francis ...  \n",
            "44918   August 22, 2017   Indonesia to buy $1.14 billion worth of Russia...  \n",
            "\n",
            "[44919 rows x 6 columns]\n"
          ]
        }
      ],
      "source": [
        "print(X)"
      ]
    },
    {
      "cell_type": "code",
      "execution_count": null,
      "metadata": {
        "colab": {
          "base_uri": "https://localhost:8080/"
        },
        "id": "YXLKisHEhFHE",
        "outputId": "4d131225-2eaf-4e70-84da-230cda3a899d"
      },
      "outputs": [
        {
          "name": "stdout",
          "output_type": "stream",
          "text": [
            "0        0\n",
            "1        0\n",
            "2        0\n",
            "3        0\n",
            "4        0\n",
            "        ..\n",
            "44914    1\n",
            "44915    1\n",
            "44916    1\n",
            "44917    1\n",
            "44918    1\n",
            "Name: class, Length: 44919, dtype: int64\n"
          ]
        }
      ],
      "source": [
        "print(Y)"
      ]
    },
    {
      "cell_type": "code",
      "execution_count": null,
      "metadata": {
        "id": "PDn9pU0yhYQM"
      },
      "outputs": [],
      "source": [
        "#stemming procedure : It is the process of reducing a word to its root word\n",
        "#example : actor, actress, acting --> act is the root word\n",
        "port_stem = PorterStemmer()\n"
      ]
    },
    {
      "cell_type": "code",
      "execution_count": null,
      "metadata": {
        "id": "aYoo9za9ivzw"
      },
      "outputs": [],
      "source": [
        "def stemming(content):\n",
        "  stemmed_content = re.sub('[^a-zA-Z]',' ',content) #regEx for replacing all the other content except alphabets with'' from content column\n",
        "  stemmed_content = stemmed_content.lower() # convert all characters to lowercase letters\n",
        "  stemmed_content = stemmed_content.split() # a list of words is formed\n",
        "  stemmed_content = [port_stem.stem(word) for word in stemmed_content if not word in stopwords.words('english')]\n",
        "  #take each word and perform stemming and remove the stopwords\n",
        "  stemmed_content = ' '.join(stemmed_content) # joining all the words\n",
        "  return stemmed_content"
      ]
    },
    {
      "cell_type": "code",
      "execution_count": null,
      "metadata": {
        "id": "kSEyJzhgmbY1"
      },
      "outputs": [],
      "source": [
        "news_dataset['content'] = news_dataset['content'].apply(stemming)"
      ]
    },
    {
      "cell_type": "code",
      "source": [
        "print(news_dataset['content'])"
      ],
      "metadata": {
        "colab": {
          "base_uri": "https://localhost:8080/"
        },
        "id": "M-3XFK8G0rrz",
        "outputId": "1279bfa8-c010-4a2b-ffe6-5dffa60c270f"
      },
      "execution_count": null,
      "outputs": [
        {
          "output_type": "stream",
          "name": "stdout",
          "text": [
            "0        donald trump send embarrass new year eve messa...\n",
            "1        drunk brag trump staffer start russian collus ...\n",
            "2        sheriff david clark becom internet joke threat...\n",
            "3        trump obsess even obama name code websit imag ...\n",
            "4        pope franci call donald trump christma speech ...\n",
            "                               ...                        \n",
            "44914    fulli commit nato back new u approach afghanis...\n",
            "44915    lexisnexi withdrew two product chines market l...\n",
            "44916    minsk cultur hub becom author minsk reuter sha...\n",
            "44917    vatican upbeat possibl pope franci visit russi...\n",
            "44918    indonesia buy billion worth russian jet jakart...\n",
            "Name: content, Length: 44919, dtype: object\n"
          ]
        }
      ]
    },
    {
      "cell_type": "code",
      "source": [
        "#seperating the data from class\n",
        "X = news_dataset['content'].values\n",
        "Y = news_dataset['class'].values"
      ],
      "metadata": {
        "id": "Z3HRt_Um1Dzy"
      },
      "execution_count": null,
      "outputs": []
    },
    {
      "cell_type": "code",
      "source": [
        "print(X)"
      ],
      "metadata": {
        "colab": {
          "base_uri": "https://localhost:8080/"
        },
        "id": "zOSKu3t91uYS",
        "outputId": "285047d5-3796-4dbd-92d0-841fe76484dc"
      },
      "execution_count": null,
      "outputs": [
        {
          "output_type": "stream",
          "name": "stdout",
          "text": [
            "['donald trump send embarrass new year eve messag disturb donald trump wish american happi new year leav instead give shout enemi hater dishonest fake news media former realiti show star one job countri rapidli grow stronger smarter want wish friend support enemi hater even dishonest fake news media happi healthi new year presid angri pant tweet great year america countri rapidli grow stronger smarter want wish friend support enemi hater even dishonest fake news media happi healthi new year great year america donald j trump realdonaldtrump decemb trump tweet went welll expect kind presid send new year greet like despic petti infantil gibberish trump lack decenc even allow rise gutter long enough wish american citizen happi new year bishop talbert swan talbertswan decemb one like calvin calvinstowel decemb impeach would make great year america also accept regain control congress miranda yaver mirandayav decemb hear talk includ mani peopl hate wonder hate alan sandov alansandov decemb use word hater new year wish marlen marlen decemb say happi new year koren pollitt korencarpent decemb trump new year eve tweet happi new year includ mani enemi fought lost badli know love donald j trump realdonaldtrump decemb noth new trump year trump direct messag enemi hater new year easter thanksgiv anniversari pic twitter com fpae kypa daniel dale ddale decemb trump holiday tweet clearli presidenti long work hallmark becom presid steven goodin sgoodin decemb alway like differ last year filter break roy schulz thbthttt decemb apart teenag use term hater wendi wendywhistl decemb fuck year old know rainyday decemb peopl vote hole think would chang got power wrong year old men chang year older photo andrew burton getti imag'\n",
            " 'drunk brag trump staffer start russian collus investig hous intellig committe chairman devin nune go bad day assumpt like mani us christoph steel dossier prompt russia investig lash depart justic fbi order protect trump happen dossier start investig accord document obtain new york time former trump campaign advis georg papadopoulo drunk wine bar reveal knowledg russian opposit research hillari clinton top papadopoulo covfef boy trump administr alleg much larger role none damn drunken fool wine bar coffe boy help arrang new york meet trump presid abdel fattah el sisi egypt two month elect known former aid set meet world leader trump team trump ran mere coffe boy may papadopoulo reveal australian diplomat alexand downer russian offici shop around possibl dirt democrat presidenti nomine hillari clinton exactli much mr papadopoulo said night kensington wine room australian alexand downer unclear report state two month later leak democrat email began appear onlin australian offici pass inform mr papadopoulo american counterpart accord four current former american foreign offici direct knowledg australian role papadopoulo plead guilti lie f b cooper wit special counsel robert mueller team presid badli script realiti tv show photo win mcname getti imag'\n",
            " 'sheriff david clark becom internet joke threaten poke peopl eye friday reveal former milwauke sheriff david clark consid homeland secur secretari donald trump administr email scandal januari brief run plane clark fellow passeng dan black later detain polic reason whatsoev except mayb feel hurt clark messag polic stop black deplan search warrant execut fbi see exchang clark call fake news even though copi search warrant internet unintimid lib media attempt smear discredit fake news report design silenc former sheriff tweet continu poke eye sharp stick bitch slap scum bag til get attack better peopl maga unintimid lib media attempt smear discredit fake news report design silenc continu poke eye sharp stick bitch slap scum bag til get attack better peopl maga pic twitter com xtzw pdu b david clark jr sheriffclark decemb stop break news lie lib media make fake news smear antidot go right punch nose make tast blood noth get bulli like lie lib media attent better give tast blood neverbackdown pic twitter com ny pshcr david clark jr sheriffclark decemb internet call local newspap search warrant fake chose file charg time mean especi continu lie month decis charg clark email search warrant file http co zcbyc wp b keithleblanc keithleblanc decemb hope rest villag peopl implic kirk ketchum kirkketchum decemb slaw bake potato french fri pic twitter com fwfxszupxi alt immigr alt usci decemb pic twitter com ymsobljfxu pendulum swinger pendulumswngr decemb call polic friend stand someon made fun hat chri jackson chriscjackson decemb master pshop hat seem never tire think steeli resolv one visibl eye pic twitter com dwr k zezv chri mohney chrismohney decemb indic finger mani peopl die jail think finger short dipshit ike barinholtz ikebarinholtz decemb rofl internet tough guy fake flair pic twitter com ulcfddhkdi kellmecrazi kel moonfac decemb edgi buddi mr smh mrssmh decemb break applebe aaron feltrrr decemb tri earn still relev badg circusrebel circusdrew decemb make sure hydrat drink lot water rumor prison deni water prison offici robert klinc robertklinc decemb terril thoma year old black man die thirst clark milwauke counti jail cell april victim homicid thought point repeat enough photo spencer platt getti imag'\n",
            " ...\n",
            " 'minsk cultur hub becom author minsk reuter shadow disus soviet era factori minsk street line eclect bar art galleri yoga studio becom vigil eye belarussian author place like island said yegor work popular bar hooligan street freedom govern presid alexand lukashenko rule belaru past year boast last dictat europ littl toler opposit power polic forc fear state secur keep citizen check polic patrol rare oktyabrskaya partli due locat way peninsula bend river svislach first restaur open visitor came rank among fashion quarter minsk grow popular oktyabrskaya investor belgazprombank subsidiari state own russian lender gazprombank big plan district earlier year bank purchas part factori intend turn galleri restaur theater complex manufactur sector entir abandon oktyabrskaya one machin make factori name octob revolut mzor still oper financi difficulti prompt state own mzor leas sell facil oktyabrskaya develop firm still maintain product reduc workforc mikhail work factori year said approv influx new hipster busi street come back life said oktyabrskaya long term futur ultim depend author good favor cultur analyst maksim zhbankov said toler say someon turn tomorrow say decid tear said'\n",
            " 'vatican upbeat possibl pope franci visit russia moscow reuter vatican secretari state cardin pietro parolin said tuesday posit momentum behind idea pope franci visit russia suggest work done happen parolin speak joint news confer moscow alongsid russian foreign minist sergei lavrov give date possibl visit eastern western branch christian split apart pope leader world billion cathol seek improv tie last year cuba held first ever meet roman cathol pope russian orthodox patriarch parolin said also use talk russian capit also rais certain difficulti face cathol church russia said moscow vatican disagre plight christian certain part world elabor parolin due later tuesday meet patriarch kiril head russian orthodox church said also believ russia could play import role came help solv crisi venezuela close relat caraca'\n",
            " 'indonesia buy billion worth russian jet jakarta reuter indonesia buy sukhoi fighter jet worth billion russia exchang cash indonesian commod two cabinet minist said tuesday southeast asian countri pledg ship million worth commod addit cash pay suhkoi su fighter jet expect deliv stage start two year indonesian trade minist enggartiasto lukita said joint statement defenc minist ryamizard ryacudu detail type volum commod still negoti previous said export could includ palm oil tea coffe deal expect finalis soon indonesian state trade compani pt perusahaan perdangangan indonesia russian state conglomer rostec russia current face new round u impos trade sanction meanwhil southeast asia largest economi tri promot palm oil product amid threat cut consumpt european union countri indonesia also tri modern age air forc string militari aviat accid indonesia million trade surplu russia want expand bilater cooper tourism educ energi technolog aviat among other']\n"
          ]
        }
      ]
    },
    {
      "cell_type": "code",
      "source": [
        "print(Y)"
      ],
      "metadata": {
        "colab": {
          "base_uri": "https://localhost:8080/"
        },
        "id": "zSten3SA1yXe",
        "outputId": "491c7bb2-d441-40cf-e488-3e55c6ace549"
      },
      "execution_count": null,
      "outputs": [
        {
          "output_type": "stream",
          "name": "stdout",
          "text": [
            "[0 0 0 ... 1 1 1]\n"
          ]
        }
      ]
    },
    {
      "cell_type": "code",
      "source": [
        "Y.shape"
      ],
      "metadata": {
        "colab": {
          "base_uri": "https://localhost:8080/"
        },
        "id": "k9ms3yIt10bT",
        "outputId": "14daacd0-de39-4f23-ff5d-e40c6e780d2c"
      },
      "execution_count": null,
      "outputs": [
        {
          "output_type": "execute_result",
          "data": {
            "text/plain": [
              "(44919,)"
            ]
          },
          "metadata": {},
          "execution_count": 30
        }
      ]
    },
    {
      "cell_type": "code",
      "source": [
        "#converting textual data into numerical data\n",
        "vectorizer = TfidfVectorizer()\n",
        "vectorizer.fit(X)\n",
        "X = vectorizer.transform(X)"
      ],
      "metadata": {
        "id": "4LrDfaM21-CL"
      },
      "execution_count": null,
      "outputs": []
    },
    {
      "cell_type": "code",
      "source": [
        "print(X)"
      ],
      "metadata": {
        "colab": {
          "base_uri": "https://localhost:8080/"
        },
        "id": "co7EigKZ2c4K",
        "outputId": "14dd7502-3e76-42b5-ce94-ac298370ad3b"
      },
      "execution_count": null,
      "outputs": [
        {
          "output_type": "stream",
          "name": "stdout",
          "text": [
            "  (0, 87885)\t0.27953576139612984\n",
            "  (0, 87808)\t0.08560284638903479\n",
            "  (0, 86738)\t0.03134243059697376\n",
            "  (0, 86582)\t0.026991417291258653\n",
            "  (0, 86500)\t0.018629188081064226\n",
            "  (0, 86486)\t0.026950456105654805\n",
            "  (0, 86402)\t0.034252209076917166\n",
            "  (0, 86079)\t0.18427919118003872\n",
            "  (0, 85205)\t0.026377611747159076\n",
            "  (0, 85194)\t0.08887295020944012\n",
            "  (0, 85183)\t0.060314871149415694\n",
            "  (0, 85155)\t0.08887295020944012\n",
            "  (0, 84510)\t0.036714112292355584\n",
            "  (0, 83947)\t0.021123776977742027\n",
            "  (0, 82290)\t0.03720391157616558\n",
            "  (0, 80231)\t0.022650064414802874\n",
            "  (0, 80171)\t0.10874136332805802\n",
            "  (0, 79494)\t0.13560747021532726\n",
            "  (0, 77498)\t0.020340027195433256\n",
            "  (0, 77123)\t0.08887295020944012\n",
            "  (0, 77069)\t0.055919271871731666\n",
            "  (0, 76803)\t0.026255084547357036\n",
            "  (0, 76559)\t0.04448848404428745\n",
            "  (0, 75916)\t0.021895633444443983\n",
            "  (0, 75894)\t0.08560284638903479\n",
            "  :\t:\n",
            "  (44918, 16760)\t0.04487536891009754\n",
            "  (44918, 16704)\t0.0404179600525818\n",
            "  (44918, 15819)\t0.055775981763551634\n",
            "  (44918, 15754)\t0.027434086017826695\n",
            "  (44918, 15454)\t0.05233843293583639\n",
            "  (44918, 15310)\t0.08854659390511588\n",
            "  (44918, 15129)\t0.09170145653711015\n",
            "  (44918, 14878)\t0.04196786443881811\n",
            "  (44918, 14833)\t0.25581592565388106\n",
            "  (44918, 14481)\t0.08441777682793421\n",
            "  (44918, 11725)\t0.12491087069126873\n",
            "  (44918, 10805)\t0.05822044647271452\n",
            "  (44918, 10616)\t0.10816976883233359\n",
            "  (44918, 7690)\t0.09129805741774705\n",
            "  (44918, 7643)\t0.0699579238014794\n",
            "  (44918, 4955)\t0.16723370047523112\n",
            "  (44918, 4284)\t0.06657044579016408\n",
            "  (44918, 4282)\t0.06105301314328426\n",
            "  (44918, 2693)\t0.04110102167437216\n",
            "  (44918, 2624)\t0.056866872505817075\n",
            "  (44918, 2300)\t0.024113970796371426\n",
            "  (44918, 1480)\t0.04682177495411426\n",
            "  (44918, 1191)\t0.0555150585321337\n",
            "  (44918, 724)\t0.04835055226754658\n",
            "  (44918, 477)\t0.07570207534006267\n"
          ]
        }
      ]
    },
    {
      "cell_type": "code",
      "source": [
        "#spliting the dataset to training and testing data\n",
        "x_train, x_test, y_train, y_test = train_test_split(X,Y, test_size = 0.2, stratify = Y, random_state = 1)\n"
      ],
      "metadata": {
        "id": "vLAvpo5o2tfb"
      },
      "execution_count": null,
      "outputs": []
    },
    {
      "cell_type": "code",
      "source": [
        "#training logistic regression model\n",
        "model = LogisticRegression()\n"
      ],
      "metadata": {
        "id": "jFQxnJ953O1Y"
      },
      "execution_count": null,
      "outputs": []
    },
    {
      "cell_type": "code",
      "source": [
        "model.fit(x_train,y_train)"
      ],
      "metadata": {
        "colab": {
          "base_uri": "https://localhost:8080/",
          "height": 74
        },
        "id": "DnVAa1GL4YGh",
        "outputId": "c7cfc2d9-6daa-4fe5-98de-7cd7c548f3c5"
      },
      "execution_count": null,
      "outputs": [
        {
          "output_type": "execute_result",
          "data": {
            "text/plain": [
              "LogisticRegression()"
            ],
            "text/html": [
              "<style>#sk-container-id-1 {color: black;background-color: white;}#sk-container-id-1 pre{padding: 0;}#sk-container-id-1 div.sk-toggleable {background-color: white;}#sk-container-id-1 label.sk-toggleable__label {cursor: pointer;display: block;width: 100%;margin-bottom: 0;padding: 0.3em;box-sizing: border-box;text-align: center;}#sk-container-id-1 label.sk-toggleable__label-arrow:before {content: \"▸\";float: left;margin-right: 0.25em;color: #696969;}#sk-container-id-1 label.sk-toggleable__label-arrow:hover:before {color: black;}#sk-container-id-1 div.sk-estimator:hover label.sk-toggleable__label-arrow:before {color: black;}#sk-container-id-1 div.sk-toggleable__content {max-height: 0;max-width: 0;overflow: hidden;text-align: left;background-color: #f0f8ff;}#sk-container-id-1 div.sk-toggleable__content pre {margin: 0.2em;color: black;border-radius: 0.25em;background-color: #f0f8ff;}#sk-container-id-1 input.sk-toggleable__control:checked~div.sk-toggleable__content {max-height: 200px;max-width: 100%;overflow: auto;}#sk-container-id-1 input.sk-toggleable__control:checked~label.sk-toggleable__label-arrow:before {content: \"▾\";}#sk-container-id-1 div.sk-estimator input.sk-toggleable__control:checked~label.sk-toggleable__label {background-color: #d4ebff;}#sk-container-id-1 div.sk-label input.sk-toggleable__control:checked~label.sk-toggleable__label {background-color: #d4ebff;}#sk-container-id-1 input.sk-hidden--visually {border: 0;clip: rect(1px 1px 1px 1px);clip: rect(1px, 1px, 1px, 1px);height: 1px;margin: -1px;overflow: hidden;padding: 0;position: absolute;width: 1px;}#sk-container-id-1 div.sk-estimator {font-family: monospace;background-color: #f0f8ff;border: 1px dotted black;border-radius: 0.25em;box-sizing: border-box;margin-bottom: 0.5em;}#sk-container-id-1 div.sk-estimator:hover {background-color: #d4ebff;}#sk-container-id-1 div.sk-parallel-item::after {content: \"\";width: 100%;border-bottom: 1px solid gray;flex-grow: 1;}#sk-container-id-1 div.sk-label:hover label.sk-toggleable__label {background-color: #d4ebff;}#sk-container-id-1 div.sk-serial::before {content: \"\";position: absolute;border-left: 1px solid gray;box-sizing: border-box;top: 0;bottom: 0;left: 50%;z-index: 0;}#sk-container-id-1 div.sk-serial {display: flex;flex-direction: column;align-items: center;background-color: white;padding-right: 0.2em;padding-left: 0.2em;position: relative;}#sk-container-id-1 div.sk-item {position: relative;z-index: 1;}#sk-container-id-1 div.sk-parallel {display: flex;align-items: stretch;justify-content: center;background-color: white;position: relative;}#sk-container-id-1 div.sk-item::before, #sk-container-id-1 div.sk-parallel-item::before {content: \"\";position: absolute;border-left: 1px solid gray;box-sizing: border-box;top: 0;bottom: 0;left: 50%;z-index: -1;}#sk-container-id-1 div.sk-parallel-item {display: flex;flex-direction: column;z-index: 1;position: relative;background-color: white;}#sk-container-id-1 div.sk-parallel-item:first-child::after {align-self: flex-end;width: 50%;}#sk-container-id-1 div.sk-parallel-item:last-child::after {align-self: flex-start;width: 50%;}#sk-container-id-1 div.sk-parallel-item:only-child::after {width: 0;}#sk-container-id-1 div.sk-dashed-wrapped {border: 1px dashed gray;margin: 0 0.4em 0.5em 0.4em;box-sizing: border-box;padding-bottom: 0.4em;background-color: white;}#sk-container-id-1 div.sk-label label {font-family: monospace;font-weight: bold;display: inline-block;line-height: 1.2em;}#sk-container-id-1 div.sk-label-container {text-align: center;}#sk-container-id-1 div.sk-container {/* jupyter's `normalize.less` sets `[hidden] { display: none; }` but bootstrap.min.css set `[hidden] { display: none !important; }` so we also need the `!important` here to be able to override the default hidden behavior on the sphinx rendered scikit-learn.org. See: https://github.com/scikit-learn/scikit-learn/issues/21755 */display: inline-block !important;position: relative;}#sk-container-id-1 div.sk-text-repr-fallback {display: none;}</style><div id=\"sk-container-id-1\" class=\"sk-top-container\"><div class=\"sk-text-repr-fallback\"><pre>LogisticRegression()</pre><b>In a Jupyter environment, please rerun this cell to show the HTML representation or trust the notebook. <br />On GitHub, the HTML representation is unable to render, please try loading this page with nbviewer.org.</b></div><div class=\"sk-container\" hidden><div class=\"sk-item\"><div class=\"sk-estimator sk-toggleable\"><input class=\"sk-toggleable__control sk-hidden--visually\" id=\"sk-estimator-id-1\" type=\"checkbox\" checked><label for=\"sk-estimator-id-1\" class=\"sk-toggleable__label sk-toggleable__label-arrow\">LogisticRegression</label><div class=\"sk-toggleable__content\"><pre>LogisticRegression()</pre></div></div></div></div></div>"
            ]
          },
          "metadata": {},
          "execution_count": 35
        }
      ]
    },
    {
      "cell_type": "code",
      "source": [
        "#evaluation\n",
        "x_train_prediction  = model.predict(x_train)\n",
        "training_data_accuracy  = accuracy_score(x_train_prediction, y_train)"
      ],
      "metadata": {
        "id": "ZZwgJduT4chD"
      },
      "execution_count": null,
      "outputs": []
    },
    {
      "cell_type": "code",
      "source": [
        "print('accuracy score of the training data: ', training_data_accuracy)"
      ],
      "metadata": {
        "colab": {
          "base_uri": "https://localhost:8080/"
        },
        "id": "TFiLi3rR45uu",
        "outputId": "63c0ed46-e400-47b4-c434-371c90ecb1de"
      },
      "execution_count": null,
      "outputs": [
        {
          "output_type": "stream",
          "name": "stdout",
          "text": [
            "accuracy score of the training data:  0.9918463893140392\n"
          ]
        }
      ]
    },
    {
      "cell_type": "code",
      "source": [
        "x_test_prediction  = model.predict(x_test)\n",
        "test_data_accuracy  = accuracy_score(x_test_prediction, y_test)"
      ],
      "metadata": {
        "id": "gOnpZN_45EqT"
      },
      "execution_count": null,
      "outputs": []
    },
    {
      "cell_type": "code",
      "source": [
        "print('accuracy score of the training data: ', test_data_accuracy)"
      ],
      "metadata": {
        "colab": {
          "base_uri": "https://localhost:8080/"
        },
        "id": "0DKrWtDs5bya",
        "outputId": "7eb0790f-eeeb-4be3-d4e9-57ea4f19a794"
      },
      "execution_count": null,
      "outputs": [
        {
          "output_type": "stream",
          "name": "stdout",
          "text": [
            "accuracy score of the training data:  0.9851959038290294\n"
          ]
        }
      ]
    },
    {
      "cell_type": "code",
      "source": [
        "#building predictive system\n",
        "x_new = x_test[4]\n",
        "\n",
        "prediction = model.predict(x_new)\n",
        "print(prediction)\n",
        "\n",
        "if(prediction[0]==0):\n",
        "  print('true')\n",
        "else:\n",
        "  print('fake')"
      ],
      "metadata": {
        "colab": {
          "base_uri": "https://localhost:8080/"
        },
        "id": "eVJZABb-5e_u",
        "outputId": "6597896a-aea6-4851-caab-ec698620b33b"
      },
      "execution_count": null,
      "outputs": [
        {
          "output_type": "stream",
          "name": "stdout",
          "text": [
            "[0]\n",
            "true\n"
          ]
        }
      ]
    },
    {
      "cell_type": "code",
      "source": [
        "print(y_test[4])"
      ],
      "metadata": {
        "colab": {
          "base_uri": "https://localhost:8080/"
        },
        "id": "4bKk489W58UM",
        "outputId": "96eabb4a-49b5-4b4c-bf1d-658cc16b7c7c"
      },
      "execution_count": null,
      "outputs": [
        {
          "output_type": "stream",
          "name": "stdout",
          "text": [
            "0\n"
          ]
        }
      ]
    },
    {
      "cell_type": "code",
      "source": [],
      "metadata": {
        "id": "Cli46WAb6Gs7"
      },
      "execution_count": null,
      "outputs": []
    }
  ],
  "metadata": {
    "colab": {
      "provenance": [],
      "mount_file_id": "1mZJ05aG8QtBiz1gQOv1z1CT4A_AB8_Xj",
      "authorship_tag": "ABX9TyPSAaIyzZpa0NPze9xuum3b",
      "include_colab_link": true
    },
    "kernelspec": {
      "display_name": "Python 3",
      "name": "python3"
    },
    "language_info": {
      "name": "python"
    }
  },
  "nbformat": 4,
  "nbformat_minor": 0
}